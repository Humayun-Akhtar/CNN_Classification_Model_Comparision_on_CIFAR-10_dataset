{
 "cells": [
  {
   "cell_type": "code",
   "execution_count": 2,
   "id": "a3532a81",
   "metadata": {},
   "outputs": [],
   "source": [
    "import os\n",
    "from matplotlib.image import imread\n",
    "import numpy as np\n",
    "import matplotlib.pyplot as plt\n",
    "from keras.datasets import cifar10\n",
    "from keras.utils import np_utils\n",
    "from matplotlib import pyplot as plt\n",
    "import numpy as np\n",
    "from PIL import Image\n",
    "import keras\n",
    "import sys"
   ]
  },
  {
   "cell_type": "markdown",
   "id": "15c48ce3",
   "metadata": {},
   "source": [
    "#### Converting the SR Image Data to RGB values for the CNN Classification model"
   ]
  },
  {
   "cell_type": "code",
   "execution_count": 3,
   "id": "f9dedcfd",
   "metadata": {},
   "outputs": [],
   "source": [
    "file_list=os.listdir(r\"D:/TAMU/ECEN 649, Pattern Recognition/Final Project/Super Resolution CNN/results/\")\n",
    "len(file_list)\n",
    "file_list[2]\n",
    "SR_data = np.full((len(file_list),128,128,3), 0.0)\n",
    "for i in range(len(file_list)):\n",
    "    SR_data[i] = imread('''D:/TAMU/ECEN 649, Pattern Recognition/Final Project/Super Resolution CNN/results/'''+ file_list[i])\n",
    "SR_data.shape"
   ]
  },
  {
   "attachments": {},
   "cell_type": "markdown",
   "id": "24594c0a",
   "metadata": {},
   "source": [
    "Reading the Cifar-10 data from Keras\n"
   ]
  },
  {
   "cell_type": "code",
   "execution_count": 9,
   "id": "cc9c9add",
   "metadata": {},
   "outputs": [],
   "source": [
    "(X_train, y_train), (X_test,y_test) = cifar10.load_data()\n",
    "sub1 = \"\"\n",
    "sub2 = \"_rlt.png\"\n",
    "index = []\n",
    "# getting index of substrings\n",
    "for i in range(len(file_list)):\n",
    "    idx1 = file_list[i].index(sub1)\n",
    "    idx2 = file_list[i].index(sub2)\n",
    "    res = ''\n",
    "    # getting elements in between\n",
    "    for idx in range(idx1 + len(sub1), idx2):\n",
    "        res = res + file_list[i][idx]\n",
    "    index.append(res)\n",
    "int_index = [int(index[i]) for i in range(len(index))]\n",
    "y = np.zeros((50000,1))\n",
    "for i,val in enumerate(int_index):\n",
    "    y[i] = y_train[val-1][0]\n",
    "import tensorflow as tf\n",
    "import matplotlib.pyplot as plt\n",
    "from tensorflow.keras.datasets import cifar10"
   ]
  },
  {
   "attachments": {},
   "cell_type": "markdown",
   "id": "3d28e5a1",
   "metadata": {},
   "source": [
    "     \n",
    "#### Loading the dataset and seperating the training and test batch \n"
   ]
  },
  {
   "cell_type": "code",
   "execution_count": 15,
   "id": "c13cd1d8",
   "metadata": {},
   "outputs": [],
   "source": [
    "# setting class names\n",
    "class_names=['airplane','automobile','bird','cat','deer','dog','frog','horse','ship','truck']\n",
    "import gc\n",
    "gc.collect()\n",
    "X_test_SR = SR_data[40000:50000]\n",
    "\n",
    "X_train_SR = SR_data[0:40000]\n",
    "y_test_SR = y[40000:50000]\n",
    "y_train_SR = y[0:40000]"
   ]
  },
  {
   "cell_type": "markdown",
   "id": "da5aa1e5",
   "metadata": {},
   "source": [
    "#### Building a Convolutional Neural Network"
   ]
  },
  {
   "cell_type": "code",
   "execution_count": 21,
   "id": "154eada4",
   "metadata": {},
   "outputs": [],
   "source": [
    "cifar10_model=tf.keras.models.Sequential()\n",
    "# First Layer\n",
    "cifar10_model.add(tf.keras.layers.Conv2D(filters=32,kernel_size=3,padding=\"same\", activation=\"relu\", input_shape=[128,128,3]))\n",
    "# Second Layer\n",
    "cifar10_model.add(tf.keras.layers.Conv2D(filters=32,kernel_size=3,padding=\"same\", activation=\"relu\"))\n",
    "# Max Pooling Layer\n",
    "cifar10_model.add(tf.keras.layers.MaxPool2D(pool_size=2,strides=2,padding='valid'))\n",
    "# Third Layer\n",
    "cifar10_model.add(tf.keras.layers.Conv2D(filters=64,kernel_size=3,padding=\"same\", activation=\"relu\"))\n",
    "# Fourth Layer\n",
    "cifar10_model.add(tf.keras.layers.Conv2D(filters=64,kernel_size=3,padding=\"same\", activation=\"relu\"))\n",
    "# Max Pooling Layer\n",
    "cifar10_model.add(tf.keras.layers.MaxPool2D(pool_size=2,strides=2,padding='valid'))\n",
    "# Flattening Layer\n",
    "cifar10_model.add(tf.keras.layers.Flatten())\n",
    "# Droput Layer\n",
    "cifar10_model.add(tf.keras.layers.Dropout(0.5,noise_shape=None,seed=None))\n",
    "# Adding the first fully connected layer\n",
    "cifar10_model.add(tf.keras.layers.Dense(units=128,activation='relu'))     \n",
    "# Output Layer\n",
    "cifar10_model.add(tf.keras.layers.Dense(units=10,activation='softmax'))\n",
    "cifar10_model.summary()"
   ]
  },
  {
   "cell_type": "markdown",
   "id": "be05724d",
   "metadata": {},
   "source": [
    "#### Compiling the Model"
   ]
  },
  {
   "cell_type": "code",
   "execution_count": 33,
   "id": "7c1cd5bf",
   "metadata": {},
   "outputs": [],
   "source": [
    "count_0 = 0\n",
    "count_1 = 0\n",
    "count_2 = 0\n",
    "\n",
    "count_3 = 0\n",
    "count_4 = 0\n",
    "\n",
    "count_5 = 0\n",
    "count_6 = 0\n",
    "\n",
    "count_7 = 0\n",
    "\n",
    "count_8 = 0\n",
    "count_9 = 0\n",
    "\n",
    "\n",
    "\n",
    "for i in  range(y.shape[0]):\n",
    "    if y[i][0] == 0:\n",
    "        count_0 += 1\n",
    "    elif y[i][0] == 1:\n",
    "        count_1 += 1\n",
    "    elif y[i][0] == 2:\n",
    "        count_2 += 1\n",
    "    elif y[i][0] == 3:\n",
    "        count_3 += 1\n",
    "    elif y[i][0] == 4:\n",
    "        count_4 += 1\n",
    "    elif y[i][0] == 5:\n",
    "        count_5 += 1\n",
    "    elif y[i][0] == 6:\n",
    "        count_6 += 1\n",
    "    elif y[i][0] == 7:\n",
    "        count_7 += 1\n",
    "    elif y[i][0] == 8:\n",
    "        count_8 += 1\n",
    "    elif y[i][0] == 9:\n",
    "        count_9 += 1\n",
    "\n",
    "cifar10_model.compile(loss=\"sparse_categorical_crossentropy\", optimizer=\"Adam\", metrics=[\"sparse_categorical_accuracy\"])"
   ]
  },
  {
   "cell_type": "markdown",
   "id": "d3fe3c1e",
   "metadata": {},
   "source": [
    "#### Training the Model"
   ]
  },
  {
   "cell_type": "code",
   "execution_count": 36,
   "id": "d70d6b81",
   "metadata": {},
   "outputs": [
    {
     "name": "stdout",
     "output_type": "stream",
     "text": [
      "Epoch 1/4\n",
      "1250/1250 [==============================] - 1574s 1s/step - loss: 1.5058 - sparse_categorical_accuracy: 0.4611\n",
      "Epoch 2/4\n",
      "1250/1250 [==============================] - 1536s 1s/step - loss: 1.0433 - sparse_categorical_accuracy: 0.6330\n",
      "Epoch 3/4\n",
      "1250/1250 [==============================] - 1547s 1s/step - loss: 0.8456 - sparse_categorical_accuracy: 0.7003\n",
      "Epoch 4/4\n",
      "1250/1250 [==============================] - 1534s 1s/step - loss: 0.6753 - sparse_categorical_accuracy: 0.7627\n"
     ]
    },
    {
     "data": {
      "text/plain": [
       "<keras.callbacks.History at 0x29e058dceb0>"
      ]
     },
     "execution_count": 36,
     "metadata": {},
     "output_type": "execute_result"
    }
   ],
   "source": [
    "cifar10_model.fit(X_train_SR,y_train_SR,epochs= 4)"
   ]
  },
  {
   "cell_type": "code",
   "execution_count": 37,
   "id": "d925944f",
   "metadata": {},
   "outputs": [
    {
     "name": "stdout",
     "output_type": "stream",
     "text": [
      "313/313 [==============================] - 105s 191ms/step - loss: 1.0272 - sparse_categorical_accuracy: 0.6624\n"
     ]
    }
   ],
   "source": [
    "test_loss, test_accuracy = cifar10_model.evaluate(X_test_SR, y_test_SR)"
   ]
  },
  {
   "attachments": {},
   "cell_type": "markdown",
   "id": "5151e5c7",
   "metadata": {},
   "source": [
    "................................................................................................................................................................................"
   ]
  },
  {
   "cell_type": "code",
   "execution_count": 38,
   "id": "5c115039",
   "metadata": {},
   "outputs": [
    {
     "name": "stdout",
     "output_type": "stream",
     "text": [
      "Test accuracy SR Model: 0.6624000072479248\n"
     ]
    }
   ],
   "source": [
    "print(\"Test accuracy SR Model: {}\".format(test_accuracy))"
   ]
  },
  {
   "attachments": {},
   "cell_type": "markdown",
   "id": "e6b9986e",
   "metadata": {},
   "source": [
    "### Creating and training the same model with raw images data"
   ]
  },
  {
   "cell_type": "code",
   "execution_count": 39,
   "id": "33aa0f35",
   "metadata": {},
   "outputs": [],
   "source": [
    "CIFAR_Raw_data = np.full((50000,32,32,3), 0)\n",
    "int_index[1]\n",
    "for i,val in enumerate(int_index):\n",
    "    CIFAR_Raw_data[i] = X_train[val-1]\n",
    " plt.imshow(CIFAR_Raw_data[39999])\n"
   ]
  },
  {
   "cell_type": "markdown",
   "id": "023bea7f",
   "metadata": {},
   "source": [
    "#### Building a Convolutional Neural Network for Raw CIFAR 10 Dataset"
   ]
  },
  {
   "cell_type": "code",
   "execution_count": 43,
   "id": "7b7afa2d",
   "metadata": {},
   "outputs": [],
   "source": [
    "cifar10_raw_model=tf.keras.models.Sequential()\n",
    "# First Layer\n",
    "cifar10_raw_model.add(tf.keras.layers.Conv2D(filters=32,kernel_size=3,padding=\"same\", activation=\"relu\", input_shape=[32,32,3]))\n",
    "# Second Layer\n",
    "cifar10_raw_model.add(tf.keras.layers.Conv2D(filters=32,kernel_size=3,padding=\"same\", activation=\"relu\"))\n",
    "# Max Pooling Layer\n",
    "cifar10_raw_model.add(tf.keras.layers.MaxPool2D(pool_size=2,strides=2,padding='valid'))\n",
    "# Third Layer\n",
    "cifar10_raw_model.add(tf.keras.layers.Conv2D(filters=64,kernel_size=3,padding=\"same\", activation=\"relu\"))\n",
    "# Fourth Layer\n",
    "cifar10_raw_model.add(tf.keras.layers.Conv2D(filters=64,kernel_size=3,padding=\"same\", activation=\"relu\"))\n",
    "# Max Pooling Layer\n",
    "cifar10_raw_model.add(tf.keras.layers.MaxPool2D(pool_size=2,strides=2,padding='valid'))\n",
    "# Flattening Layer\n",
    "cifar10_raw_model.add(tf.keras.layers.Flatten())\n",
    "# Droput Layer\n",
    "cifar10_raw_model.add(tf.keras.layers.Dropout(0.5,noise_shape=None,seed=None))\n",
    "# Adding the first fully connected layer\n",
    "cifar10_raw_model.add(tf.keras.layers.Dense(units=128,activation='relu'))     \n",
    "# Output Layer\n",
    "cifar10_raw_model.add(tf.keras.layers.Dense(units=10,activation='softmax'))\n",
    "cifar10_raw_model.summary()"
   ]
  },
  {
   "cell_type": "markdown",
   "id": "ff7d388d",
   "metadata": {},
   "source": [
    "#### Compiling the Model"
   ]
  },
  {
   "cell_type": "code",
   "execution_count": 55,
   "id": "cf720bb3",
   "metadata": {},
   "outputs": [],
   "source": [
    "cifar10_raw_model.compile(loss=\"sparse_categorical_crossentropy\", optimizer=\"Adam\", metrics=[\"sparse_categorical_accuracy\"])\n",
    "#### Training the Model\n",
    "X_test_raw = CIFAR_Raw_data[40000:50000]\n",
    "\n",
    "\n",
    "X_train_raw = CIFAR_Raw_data[0:40000]\n",
    "\n",
    "y_test_raw = y[40000:50000]\n",
    "\n",
    "y_train_raw = y[0:40000]"
   ]
  },
  {
   "cell_type": "code",
   "execution_count": 59,
   "id": "864ce0e5",
   "metadata": {},
   "outputs": [
    {
     "name": "stdout",
     "output_type": "stream",
     "text": [
      "Epoch 1/4\n",
      "1250/1250 [==============================] - 119s 93ms/step - loss: 1.7587 - sparse_categorical_accuracy: 0.3877\n",
      "Epoch 2/4\n",
      "1250/1250 [==============================] - 117s 94ms/step - loss: 1.2882 - sparse_categorical_accuracy: 0.5418\n",
      "Epoch 3/4\n",
      "1250/1250 [==============================] - 117s 93ms/step - loss: 1.1241 - sparse_categorical_accuracy: 0.6010\n",
      "Epoch 4/4\n",
      "1250/1250 [==============================] - 116s 93ms/step - loss: 1.0280 - sparse_categorical_accuracy: 0.6369\n"
     ]
    },
    {
     "data": {
      "text/plain": [
       "<keras.callbacks.History at 0x29e0fba9840>"
      ]
     },
     "execution_count": 59,
     "metadata": {},
     "output_type": "execute_result"
    }
   ],
   "source": [
    "cifar10_raw_model.fit(X_train_raw,y_train_raw,epochs= 4)"
   ]
  },
  {
   "cell_type": "code",
   "execution_count": null,
   "id": "f96dc88d",
   "metadata": {},
   "outputs": [],
   "source": [
    "model.load_weights(checkpoint_path)"
   ]
  },
  {
   "cell_type": "code",
   "execution_count": 60,
   "id": "bbcf893d",
   "metadata": {},
   "outputs": [
    {
     "name": "stdout",
     "output_type": "stream",
     "text": [
      "313/313 [==============================] - 4s 12ms/step - loss: 1.0062 - sparse_categorical_accuracy: 0.6507\n"
     ]
    }
   ],
   "source": [
    "test_loss, test_accuracy = cifar10_raw_model.evaluate(X_test_raw, y_test_raw)"
   ]
  },
  {
   "cell_type": "code",
   "execution_count": 94,
   "id": "c2b2a14e",
   "metadata": {},
   "outputs": [
    {
     "name": "stdout",
     "output_type": "stream",
     "text": [
      "Test accuracy CIFAR raw Model: 0.6966999769210815\n"
     ]
    }
   ],
   "source": [
    "print(\"Test accuracy CIFAR raw Model: {}\".format(test_accuracy))"
   ]
  }
 ],
 "metadata": {
  "kernelspec": {
   "display_name": "Python 3",
   "language": "python",
   "name": "python3"
  },
  "language_info": {
   "codemirror_mode": {
    "name": "ipython",
    "version": 3
   },
   "file_extension": ".py",
   "mimetype": "text/x-python",
   "name": "python",
   "nbconvert_exporter": "python",
   "pygments_lexer": "ipython3",
   "version": "3.10.9"
  },
  "vscode": {
   "interpreter": {
    "hash": "99f68958eead3025279f0460c5a7bb60c40ae4589f6da37fd83f83134550734c"
   }
  }
 },
 "nbformat": 4,
 "nbformat_minor": 5
}
